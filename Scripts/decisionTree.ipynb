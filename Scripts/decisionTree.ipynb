{
 "cells": [
  {
   "cell_type": "markdown",
   "metadata": {},
   "source": [
    "# Decision Tree Method for ICD Classification"
   ]
  },
  {
   "cell_type": "code",
   "execution_count": 28,
   "metadata": {},
   "outputs": [],
   "source": [
    "from sklearn.tree import DecisionTreeClassifier\n",
    "import pandas as pd\n",
    "import numpy as np"
   ]
  },
  {
   "cell_type": "code",
   "execution_count": 29,
   "metadata": {},
   "outputs": [
    {
     "name": "stderr",
     "output_type": "stream",
     "text": [
      "/var/folders/gk/3jvnj9f55ml5l1y3kg3b_c300000gn/T/ipykernel_75858/386889054.py:5: ParserWarning: Falling back to the 'python' engine because the 'c' engine does not support skipfooter; you can avoid this warning by specifying engine='python'.\n",
      "  df = pd.read_csv(csvFileName, delimiter=',', skiprows=3, skipfooter=7)\n"
     ]
    },
    {
     "data": {
      "text/html": [
       "<div>\n",
       "<style scoped>\n",
       "    .dataframe tbody tr th:only-of-type {\n",
       "        vertical-align: middle;\n",
       "    }\n",
       "\n",
       "    .dataframe tbody tr th {\n",
       "        vertical-align: top;\n",
       "    }\n",
       "\n",
       "    .dataframe thead th {\n",
       "        text-align: right;\n",
       "    }\n",
       "</style>\n",
       "<table border=\"1\" class=\"dataframe\">\n",
       "  <thead>\n",
       "    <tr style=\"text-align: right;\">\n",
       "      <th></th>\n",
       "      <th>Diagnosis\\nCode</th>\n",
       "      <th>Description</th>\n",
       "      <th>CMS-HCC\\nModel\\nCategory\\nV21</th>\n",
       "      <th>CMS-HCC\\nModel\\nCategory\\nV22</th>\n",
       "      <th>CMS-HCC\\nModel\\nCategory\\nV24</th>\n",
       "      <th>RxHCC\\nModel\\nCategory\\nV05</th>\n",
       "      <th>CMS-HCC\\nESRD Model\\nfor 2021\\nPayment\\nYear</th>\n",
       "      <th>CMS-HCC\\nModel\\nCategory\\nV22 for 2021\\nPayment Year</th>\n",
       "      <th>CMS-HCC\\nModel\\nCategory\\nV24 for 2021\\nPayment Year</th>\n",
       "      <th>RxHCC\\nModel\\nfor 2021\\nPayment\\nYear</th>\n",
       "    </tr>\n",
       "  </thead>\n",
       "  <tbody>\n",
       "    <tr>\n",
       "      <th>0</th>\n",
       "      <td>A0103</td>\n",
       "      <td>Typhoid pneumonia</td>\n",
       "      <td>115.0</td>\n",
       "      <td>115.0</td>\n",
       "      <td>115.0</td>\n",
       "      <td>NaN</td>\n",
       "      <td>Yes</td>\n",
       "      <td>Yes</td>\n",
       "      <td>Yes</td>\n",
       "      <td>No</td>\n",
       "    </tr>\n",
       "    <tr>\n",
       "      <th>1</th>\n",
       "      <td>A0104</td>\n",
       "      <td>Typhoid arthritis</td>\n",
       "      <td>39.0</td>\n",
       "      <td>39.0</td>\n",
       "      <td>39.0</td>\n",
       "      <td>NaN</td>\n",
       "      <td>Yes</td>\n",
       "      <td>Yes</td>\n",
       "      <td>Yes</td>\n",
       "      <td>No</td>\n",
       "    </tr>\n",
       "    <tr>\n",
       "      <th>2</th>\n",
       "      <td>A0105</td>\n",
       "      <td>Typhoid osteomyelitis</td>\n",
       "      <td>39.0</td>\n",
       "      <td>39.0</td>\n",
       "      <td>39.0</td>\n",
       "      <td>NaN</td>\n",
       "      <td>Yes</td>\n",
       "      <td>Yes</td>\n",
       "      <td>Yes</td>\n",
       "      <td>No</td>\n",
       "    </tr>\n",
       "    <tr>\n",
       "      <th>3</th>\n",
       "      <td>A021</td>\n",
       "      <td>Salmonella sepsis</td>\n",
       "      <td>2.0</td>\n",
       "      <td>2.0</td>\n",
       "      <td>2.0</td>\n",
       "      <td>NaN</td>\n",
       "      <td>Yes</td>\n",
       "      <td>Yes</td>\n",
       "      <td>Yes</td>\n",
       "      <td>No</td>\n",
       "    </tr>\n",
       "    <tr>\n",
       "      <th>4</th>\n",
       "      <td>A0222</td>\n",
       "      <td>Salmonella pneumonia</td>\n",
       "      <td>115.0</td>\n",
       "      <td>115.0</td>\n",
       "      <td>115.0</td>\n",
       "      <td>NaN</td>\n",
       "      <td>Yes</td>\n",
       "      <td>Yes</td>\n",
       "      <td>Yes</td>\n",
       "      <td>No</td>\n",
       "    </tr>\n",
       "  </tbody>\n",
       "</table>\n",
       "</div>"
      ],
      "text/plain": [
       "  Diagnosis\\nCode            Description  CMS-HCC\\nModel\\nCategory\\nV21  \\\n",
       "0           A0103      Typhoid pneumonia                          115.0   \n",
       "1           A0104      Typhoid arthritis                           39.0   \n",
       "2           A0105  Typhoid osteomyelitis                           39.0   \n",
       "3            A021      Salmonella sepsis                            2.0   \n",
       "4           A0222   Salmonella pneumonia                          115.0   \n",
       "\n",
       "   CMS-HCC\\nModel\\nCategory\\nV22  CMS-HCC\\nModel\\nCategory\\nV24  \\\n",
       "0                          115.0                          115.0   \n",
       "1                           39.0                           39.0   \n",
       "2                           39.0                           39.0   \n",
       "3                            2.0                            2.0   \n",
       "4                          115.0                          115.0   \n",
       "\n",
       "   RxHCC\\nModel\\nCategory\\nV05 CMS-HCC\\nESRD Model\\nfor 2021\\nPayment\\nYear  \\\n",
       "0                          NaN                                          Yes   \n",
       "1                          NaN                                          Yes   \n",
       "2                          NaN                                          Yes   \n",
       "3                          NaN                                          Yes   \n",
       "4                          NaN                                          Yes   \n",
       "\n",
       "  CMS-HCC\\nModel\\nCategory\\nV22 for 2021\\nPayment Year  \\\n",
       "0                                                Yes     \n",
       "1                                                Yes     \n",
       "2                                                Yes     \n",
       "3                                                Yes     \n",
       "4                                                Yes     \n",
       "\n",
       "  CMS-HCC\\nModel\\nCategory\\nV24 for 2021\\nPayment Year  \\\n",
       "0                                                Yes     \n",
       "1                                                Yes     \n",
       "2                                                Yes     \n",
       "3                                                Yes     \n",
       "4                                                Yes     \n",
       "\n",
       "  RxHCC\\nModel\\nfor 2021\\nPayment\\nYear  \n",
       "0                                    No  \n",
       "1                                    No  \n",
       "2                                    No  \n",
       "3                                    No  \n",
       "4                                    No  "
      ]
     },
     "execution_count": 29,
     "metadata": {},
     "output_type": "execute_result"
    }
   ],
   "source": [
    "csvFileName = \"../Data/2022 Initial ICD-10-CM Mappings.csv\"\n",
    "DESCRIPTION = \"Description\"\n",
    "ICDCODE = \"Diagnosis\\nCode\"\n",
    "\n",
    "df = pd.read_csv(csvFileName, delimiter=',', skiprows=3, skipfooter=7)\n",
    "df.head()"
   ]
  },
  {
   "cell_type": "code",
   "execution_count": 30,
   "metadata": {},
   "outputs": [],
   "source": [
    "\n",
    "# get descriptions\n",
    "descs = df[DESCRIPTION]\n",
    "ICDs = df[ICDCODE]\n",
    "ICDNum = len(descs)"
   ]
  },
  {
   "cell_type": "markdown",
   "metadata": {},
   "source": [
    "## Description to wordvector"
   ]
  },
  {
   "cell_type": "code",
   "execution_count": 31,
   "metadata": {},
   "outputs": [],
   "source": [
    "wordSet = set()\n",
    "\n",
    "def cleanText(text):\n",
    "    text = text.replace('(', '')\n",
    "    text = text.replace(')', '')\n",
    "    text = text.replace('[', '')\n",
    "    text = text.replace(']', '')\n",
    "    text = text.replace('.', '')\n",
    "    text = text.replace(',', '')\n",
    "    return text.lower()\n",
    "\n",
    "def add2WordSet(text):\n",
    "    text = cleanText(text)\n",
    "    global wordSet\n",
    "    wordSet = wordSet.union(set(text.split()))\n",
    "\n",
    "_ = descs.apply(add2WordSet)\n"
   ]
  },
  {
   "cell_type": "code",
   "execution_count": 32,
   "metadata": {},
   "outputs": [],
   "source": [
    "word2idx = {}\n",
    "idx2word = []\n",
    "\n",
    "for wordid, word in enumerate(wordSet):\n",
    "    word2idx[word] = wordid\n",
    "    idx2word.append(word)\n"
   ]
  },
  {
   "cell_type": "markdown",
   "metadata": {},
   "source": [
    "## Diabete \n",
    "ICDs start with E08-E13"
   ]
  },
  {
   "cell_type": "code",
   "execution_count": 56,
   "metadata": {},
   "outputs": [],
   "source": [
    "tgtdf = None\n",
    "for prefix in [\"E08\", \"E09\", \"E10\", \"E11\"]:\n",
    "    if tgtdf is None:\n",
    "        tgtdf = df[ICDs.str.startswith(prefix)]\n",
    "    else:\n",
    "        tgtdf = tgtdf.append(df[ICDs.str.startswith(prefix)])\n",
    "# tgtdf = df"
   ]
  },
  {
   "cell_type": "code",
   "execution_count": 57,
   "metadata": {},
   "outputs": [],
   "source": [
    "# Turn Diabete descriptions to word vectors\n",
    "X = np.zeros((len(tgtdf), len(wordSet)))\n",
    "Y = np.zeros(len(tgtdf))\n",
    "counter = 0\n",
    "\n",
    "def turnDesc2wordvec(text):\n",
    "    global counter\n",
    "    text = cleanText(text)\n",
    "    for word in text.split():\n",
    "        if word in word2idx:\n",
    "            idx = word2idx[word]\n",
    "            X[counter][idx] = 1\n",
    "    Y[counter] = counter\n",
    "    counter += 1\n",
    "\n",
    "_ = tgtdf[DESCRIPTION].apply(turnDesc2wordvec)"
   ]
  },
  {
   "cell_type": "code",
   "execution_count": 58,
   "metadata": {},
   "outputs": [],
   "source": [
    "clf = DecisionTreeClassifier().fit(X, Y)"
   ]
  },
  {
   "cell_type": "markdown",
   "metadata": {},
   "source": [
    "## Test"
   ]
  },
  {
   "cell_type": "code",
   "execution_count": 59,
   "metadata": {},
   "outputs": [
    {
     "data": {
      "text/plain": [
       "1514      E0801\n",
       "1525     E08319\n",
       "1677    E093211\n",
       "1527    E083211\n",
       "3395       G723\n",
       "68        A8181\n",
       "Name: Diagnosis\\nCode, dtype: object"
      ]
     },
     "execution_count": 59,
     "metadata": {},
     "output_type": "execute_result"
    }
   ],
   "source": [
    "testDescs = [\n",
    "    \"Diabetes mellitus due to underlying condition with hyperosmolarity with coma\", # E0801\n",
    "    \"Diabetes mellitus due to underlying condition with unspecified diabetic retinopathy without macular edema\", # E08319\n",
    "    \"Drug or chemical induced diabetes mellitus with mild nonproliferative diabetic retinopathy with macular edema, right eye\", # E093211\n",
    "    \"Diabetes mellitus due to underlying condition with mild nonproliferative diabetic retinopathy with macular edema, right eye\",\n",
    "    \"Mike is suffering from Diabetes due to a long time condition of hyperosmolarity, which even leads to periodic coma\",\n",
    "    \"Mike has kuru.\"\n",
    "]\n",
    "\n",
    "\n",
    "def genWordVec(text):\n",
    "    x = np.zeros(len(wordSet))\n",
    "    text = cleanText(text)\n",
    "    for word in text.split():\n",
    "        if word in word2idx:\n",
    "            idx = word2idx[word]\n",
    "            x[idx] = 1\n",
    "    return x\n",
    "\n",
    "testX = np.asarray([genWordVec(desc) for desc in testDescs])\n",
    "predY = clf.predict(testX)\n",
    "\n",
    "tgtdf[ICDCODE].iloc[predY]"
   ]
  }
 ],
 "metadata": {
  "interpreter": {
   "hash": "aee8b7b246df8f9039afb4144a1f6fd8d2ca17a180786b69acc140d282b71a49"
  },
  "kernelspec": {
   "display_name": "Python 3.8.7 64-bit",
   "language": "python",
   "name": "python3"
  },
  "language_info": {
   "codemirror_mode": {
    "name": "ipython",
    "version": 3
   },
   "file_extension": ".py",
   "mimetype": "text/x-python",
   "name": "python",
   "nbconvert_exporter": "python",
   "pygments_lexer": "ipython3",
   "version": "3.8.7"
  },
  "orig_nbformat": 4
 },
 "nbformat": 4,
 "nbformat_minor": 2
}
